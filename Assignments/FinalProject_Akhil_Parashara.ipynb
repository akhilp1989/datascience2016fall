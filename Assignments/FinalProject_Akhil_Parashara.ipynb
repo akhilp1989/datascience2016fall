{
 "cells": [
  {
   "cell_type": "markdown",
   "metadata": {},
   "source": [
    "# Final Project : Logit Regression to identify the various factors that may influence admission into graduate school.\n",
    "\n",
    "# Submitted By: Akhil Parashara\n",
    "\n",
    "# W1166146\n",
    "\n",
    "# aparashara@scu.edu"
   ]
  },
  {
   "cell_type": "markdown",
   "metadata": {},
   "source": [
    "# Introduction: \n",
    "\n",
    "Logistic regression, also called a logit model, is used to model dichotomous outcome variables. In the logit model the log odds of the outcome is modeled as a linear combination of the predictor variables.\n",
    "\n",
    "We have take the datasource from UCLA which has the following predictors Variables\n",
    "gpa --> GPA of undergrad School\n",
    "gre score\n",
    "rank or Reputation of an applicant's undergraduate alma mater\n",
    "The final column in the dataset \"Admit\" which has a binary value of 0 or 1; 0--> Not Admitted , 1--> Admitted"
   ]
  },
  {
   "cell_type": "markdown",
   "metadata": {},
   "source": [
    "# Step -1 Load the Libraries and Dataset \n",
    "\n",
    "The first and foremost step is to load the libraries and dataset. For this project, I have used Pandas and Numpy for standard data analysis, Statsmodel for modelling and training the data and finally Pylab for the plotting"
   ]
  },
  {
   "cell_type": "code",
   "execution_count": 86,
   "metadata": {
    "collapsed": false
   },
   "outputs": [
    {
     "data": {
      "text/html": [
       "<div>\n",
       "<table border=\"1\" class=\"dataframe\">\n",
       "  <thead>\n",
       "    <tr style=\"text-align: right;\">\n",
       "      <th></th>\n",
       "      <th>admit</th>\n",
       "      <th>gre</th>\n",
       "      <th>gpa</th>\n",
       "      <th>undergrad_rep</th>\n",
       "    </tr>\n",
       "  </thead>\n",
       "  <tbody>\n",
       "    <tr>\n",
       "      <th>0</th>\n",
       "      <td>0</td>\n",
       "      <td>380</td>\n",
       "      <td>3.61</td>\n",
       "      <td>3</td>\n",
       "    </tr>\n",
       "    <tr>\n",
       "      <th>1</th>\n",
       "      <td>1</td>\n",
       "      <td>660</td>\n",
       "      <td>3.67</td>\n",
       "      <td>3</td>\n",
       "    </tr>\n",
       "    <tr>\n",
       "      <th>2</th>\n",
       "      <td>1</td>\n",
       "      <td>800</td>\n",
       "      <td>4.00</td>\n",
       "      <td>1</td>\n",
       "    </tr>\n",
       "    <tr>\n",
       "      <th>3</th>\n",
       "      <td>1</td>\n",
       "      <td>640</td>\n",
       "      <td>3.19</td>\n",
       "      <td>4</td>\n",
       "    </tr>\n",
       "    <tr>\n",
       "      <th>4</th>\n",
       "      <td>0</td>\n",
       "      <td>520</td>\n",
       "      <td>2.93</td>\n",
       "      <td>4</td>\n",
       "    </tr>\n",
       "  </tbody>\n",
       "</table>\n",
       "</div>"
      ],
      "text/plain": [
       "   admit  gre   gpa  undergrad_rep\n",
       "0      0  380  3.61              3\n",
       "1      1  660  3.67              3\n",
       "2      1  800  4.00              1\n",
       "3      1  640  3.19              4\n",
       "4      0  520  2.93              4"
      ]
     },
     "execution_count": 86,
     "metadata": {},
     "output_type": "execute_result"
    }
   ],
   "source": [
    "import pandas as pd\n",
    "import statsmodels.api as sm\n",
    "import pylab as pl\n",
    "import numpy as np\n",
    "\n",
    "# read the data in\n",
    "df = pd.read_csv(\"http://www.ats.ucla.edu/stat/data/binary.csv\")\n",
    "df.columns = [\"admit\", \"gre\", \"gpa\", \"undergrad_rep\"]\n",
    "df.head()"
   ]
  },
  {
   "cell_type": "markdown",
   "metadata": {},
   "source": [
    "# Step-2: Looking at the data\n",
    "\n",
    "The best way look and analyse the data is using plots. I have used histogram to visualize the total count based on each of the 4 fields. If you look at the histogram below, the 1st graph shows the that only 175 students got admitted(admit value=1). Looking more into the insight of GRE scores, it looks like the most of the students have a GRE score of 600, which is good to get admission."
   ]
  },
  {
   "cell_type": "code",
   "execution_count": 87,
   "metadata": {
    "collapsed": false
   },
   "outputs": [
    {
     "data": {
      "image/png": "[encoded data removed]",
      "text/plain": [
       "<matplotlib.figure.Figure at 0x11dd5ae90>"
      ]
     },
     "metadata": {},
     "output_type": "display_data"
    }
   ],
   "source": [
    "df.hist()\n",
    "pl.show()"
   ]
  },
  {
   "cell_type": "markdown",
   "metadata": {},
   "source": [
    "# Crosstab: crosstab makes it really easy to do multidimensional frequency tables\n",
    "\n",
    "Below we are using crosstab to calculate the frequency of number admits based on the undergrad Reputation and number of admits based on GRE scores\n"
   ]
  },
  {
   "cell_type": "code",
   "execution_count": 112,
   "metadata": {
    "collapsed": false
   },
   "outputs": [
    {
     "name": "stdout",
     "output_type": "stream",
     "text": [
      "undergrad_rep   1   2   3   4\n",
      "admit                        \n",
      "0              28  97  93  55\n",
      "1              33  54  28  12\n"
     ]
    }
   ],
   "source": [
    "#Printing Frequency chart for admits vs UnderGrad Reputation\n",
    "print pd.crosstab(df['admit'], df['undergrad_rep'], rownames=['admit'])"
   ]
  },
  {
   "cell_type": "code",
   "execution_count": 113,
   "metadata": {
    "collapsed": false
   },
   "outputs": [
    {
     "name": "stdout",
     "output_type": "stream",
     "text": [
      "gre    220  300  340  360  380  400  420  440  460  480 ...   620  640  660  \\\n",
      "admit                                                   ...                   \n",
      "0        1    2    3    4    8    9    7    8   10   10 ...    18   16   12   \n",
      "1        0    1    1    0    0    2    0    2    4    6 ...    12    5   12   \n",
      "\n",
      "gre    680  700  720  740  760  780  800  \n",
      "admit                                     \n",
      "0       11   17    8    7    1    1   14  \n",
      "1        9    5    3    4    4    4   11  \n",
      "\n",
      "[2 rows x 26 columns]\n"
     ]
    }
   ],
   "source": [
    "#Printing Frequency chart for admits vs GRE Score\n",
    "print pd.crosstab(df1['admit'], df1['gre'], rownames=['admit'])"
   ]
  },
  {
   "cell_type": "markdown",
   "metadata": {},
   "source": [
    "# Step -3 Creating Dummy Variables\n",
    "\n",
    "Using pandas gives  a great amount of control over how these  variables are represented. We're going dummify the \"Undergrad_rep\" column using get_dummies.\n",
    "\n",
    "get_dummies creates a new DataFrame with binary indicator variables for each category/option in the column specified. In this case, Undergrad_rep column has four levels: 1, 2, 3 and 4 (1 being most reputed). When we call get_dummies, we get a dataframe with four columns, each of which describes one of those levels.\n",
    "\n",
    "After doing that,I merge the new dummy columns in the original dataset and removed the undergrad_rep column because its not needed after that.\n",
    "\n",
    "Finally, I  added a fix term for the Logistic Regression. The statsmodels function  requires that intercepts/constants are specified explicitly."
   ]
  },
  {
   "cell_type": "code",
   "execution_count": 102,
   "metadata": {
    "collapsed": false
   },
   "outputs": [
    {
     "name": "stdout",
     "output_type": "stream",
     "text": [
      "   undergrad_rep_1  undergrad_rep_2  undergrad_rep_3  undergrad_rep_4\n",
      "0              0.0              0.0              1.0              0.0\n",
      "1              0.0              0.0              1.0              0.0\n",
      "2              1.0              0.0              0.0              0.0\n",
      "3              0.0              0.0              0.0              1.0\n",
      "4              0.0              0.0              0.0              1.0\n",
      "   admit  gre   gpa  undergrad_rep_2  undergrad_rep_3  undergrad_rep_4\n",
      "0      0  380  3.61              0.0              1.0              0.0\n",
      "1      1  660  3.67              0.0              1.0              0.0\n",
      "2      1  800  4.00              0.0              0.0              0.0\n",
      "3      1  640  3.19              0.0              0.0              1.0\n",
      "4      0  520  2.93              0.0              0.0              1.0\n"
     ]
    }
   ],
   "source": [
    "\n",
    "dummy_ranks = pd.get_dummies(df['undergrad_rep'], prefix='undergrad_rep')\n",
    "print dummy_ranks.head()\n",
    "\n",
    "\n",
    "# create a clean data frame for the regression\n",
    "cols_to_keep = ['admit', 'gre', 'gpa']\n",
    "data = df[cols_to_keep].join(dummy_ranks.ix[:, 'undergrad_rep_2':])\n",
    "print data.head()\n",
    "\n",
    "#manually assigning the intercept\n",
    "data['intercept'] = 1.0"
   ]
  },
  {
   "cell_type": "markdown",
   "metadata": {},
   "source": [
    "# Finally getting down to REAL Business REGRESSION\n",
    "\n",
    "The first step in regression is to Specify the column variables that we want to predict then followed by the columns that our model should use to predict.\n",
    "\n",
    "In this case I am  predicting the admit column based on gre, gpa, and the UnderGrad reputation dummy variables gre, gpa, undergrad_rep_2, undergrad_rep_3, undergrad_rep_4. We're going to treat undergrad_rep_1 as our base and exclude it from our fit. I did this to prevent multicollinearity\n",
    "\n",
    "I am using the statsmodels Logit function to do the Logistic regression"
   ]
  },
  {
   "cell_type": "code",
   "execution_count": 103,
   "metadata": {
    "collapsed": false
   },
   "outputs": [
    {
     "name": "stdout",
     "output_type": "stream",
     "text": [
      "Optimization terminated successfully.\n",
      "         Current function value: 0.573147\n",
      "         Iterations 6\n"
     ]
    }
   ],
   "source": [
    "col_train = data.columns[1:]\n",
    "# Index([gre, gpa, undergrad_rep_2, undergrad_rep_3, undergrad_rep_4], dtype=object)\n",
    "\n",
    "logit = sm.Logit(data['admit'], data[col_train])\n",
    "\n",
    "# fit the model\n",
    "result = logit.fit()\n"
   ]
  },
  {
   "cell_type": "markdown",
   "metadata": {},
   "source": [
    "# Analysizing the Regression Results:\n",
    "\n",
    "From the two results set, it seems quite evident that there is an inverse relationship between the probability of being admitted and the reputation of the undergrad School.\n",
    "\n",
    "In other words, the probability getting addmitted into a graduate course is more for students who have attended a well reputated  ranked undergraduate school (undergrad_rep_1==True) in contrast  to the lower ranked schools (undergrad_rep==2 or 3 or 4)."
   ]
  },
  {
   "cell_type": "code",
   "execution_count": 95,
   "metadata": {
    "collapsed": false
   },
   "outputs": [
    {
     "name": "stdout",
     "output_type": "stream",
     "text": [
      "                           Logit Regression Results                           \n",
      "==============================================================================\n",
      "Dep. Variable:                  admit   No. Observations:                  400\n",
      "Model:                          Logit   Df Residuals:                      397\n",
      "Method:                           MLE   Df Model:                            2\n",
      "Date:                Sun, 27 Nov 2016   Pseudo R-squ.:                 0.03927\n",
      "Time:                        16:54:26   Log-Likelihood:                -240.17\n",
      "converged:                       True   LL-Null:                       -249.99\n",
      "                                        LLR p-value:                 5.456e-05\n",
      "==============================================================================\n",
      "                 coef    std err          z      P>|z|      [95.0% Conf. Int.]\n",
      "------------------------------------------------------------------------------\n",
      "gre            0.0027      0.001      2.544      0.011         0.001     0.005\n",
      "gpa            0.7547      0.320      2.361      0.018         0.128     1.381\n",
      "intercept     -4.9494      1.075     -4.604      0.000        -7.057    -2.842\n",
      "==============================================================================\n"
     ]
    }
   ],
   "source": [
    "\n",
    "# cool enough to deserve it's own gist\n",
    "print result.summary()"
   ]
  },
  {
   "cell_type": "code",
   "execution_count": 104,
   "metadata": {
    "collapsed": false
   },
   "outputs": [
    {
     "name": "stdout",
     "output_type": "stream",
     "text": [
      "                        0         1\n",
      "gre              0.000120  0.004409\n",
      "gpa              0.153684  1.454391\n",
      "undergrad_rep_2 -1.295751 -0.055135\n",
      "undergrad_rep_3 -2.016992 -0.663416\n",
      "undergrad_rep_4 -2.370399 -0.732529\n",
      "intercept       -6.224242 -1.755716\n"
     ]
    }
   ],
   "source": [
    "\n",
    "# look at the confidence interval of each coeffecient\n",
    "print result.conf_int()"
   ]
  },
  {
   "cell_type": "markdown",
   "metadata": {},
   "source": [
    "# Evaluation/Prediction \n",
    "\n",
    "In order to evaluate the classifier, I re-created the dataset with  logical combination of input values. From that, i can see how the predicted probability of getting an admit improves/decreases with different variables. \n",
    "\n",
    "Initial step in that is to  generate the combinations using a helper function called cartesian(http://stackoverflow.com/questions/1208118/using-numpy-to-build-an-array-of-all-combinations-of-two-arrays)\n",
    "\n",
    "I used np.linspace to create a range of values for \"gre\" and \"gpa\". It is a  linearly spaced values from a specified min and maximum value which correlates to minimum and maximum values from the dataset"
   ]
  },
  {
   "cell_type": "code",
   "execution_count": 114,
   "metadata": {
    "collapsed": false
   },
   "outputs": [
    {
     "name": "stdout",
     "output_type": "stream",
     "text": [
      "[ 220.          284.44444444  348.88888889  413.33333333  477.77777778\n",
      "  542.22222222  606.66666667  671.11111111  735.55555556  800.        ]\n",
      "[ 2.26        2.45333333  2.64666667  2.84        3.03333333  3.22666667\n",
      "  3.42        3.61333333  3.80666667  4.        ]\n",
      "     gre       gpa  undergrad_rep  intercept  undergrad_rep_2  \\\n",
      "0  220.0  2.260000            1.0        1.0              0.0   \n",
      "1  220.0  2.260000            2.0        1.0              1.0   \n",
      "2  220.0  2.260000            3.0        1.0              0.0   \n",
      "3  220.0  2.260000            4.0        1.0              0.0   \n",
      "4  220.0  2.453333            1.0        1.0              0.0   \n",
      "\n",
      "   undergrad_rep_3  undergrad_rep_4  admit_pred  \n",
      "0              0.0              0.0    0.157801  \n",
      "1              0.0              0.0    0.087056  \n",
      "2              1.0              0.0    0.046758  \n",
      "3              0.0              1.0    0.038194  \n",
      "4              0.0              0.0    0.179574  \n"
     ]
    }
   ],
   "source": [
    "\n",
    "gres = np.linspace(data['gre'].min(), data['gre'].max(), 10)\n",
    "print gres\n",
    "\n",
    "gpas = np.linspace(data['gpa'].min(), data['gpa'].max(), 10)\n",
    "print gpas\n",
    "\n",
    "\n",
    "\n",
    "# enumerate all possibilities\n",
    "combos = pd.DataFrame(cartesian([gres, gpas, [1, 2, 3, 4], [1.]]))\n",
    "# recreate the dummy variables\n",
    "combos.columns = ['gre', 'gpa', 'undergrad_rep', 'intercept']\n",
    "dummy_ranks = pd.get_dummies(combos['undergrad_rep'], prefix='undergrad_rep')\n",
    "dummy_ranks.columns = ['undergrad_rep_1', 'undergrad_rep_2', 'undergrad_rep_3', 'undergrad_rep_4']\n",
    "\n",
    "# keep only what we need for making predictions\n",
    "cols_to_keep = ['gre', 'gpa', 'undergrad_rep', 'intercept']\n",
    "combos = combos[cols_to_keep].join(dummy_ranks.ix[:, 'undergrad_rep_2':])\n",
    "\n",
    "# make predictions on the enumerated dataset\n",
    "combos['admit_pred'] = result.predict(combos[col_train])\n",
    "print combos.head()\n",
    "\n",
    "\n"
   ]
  },
  {
   "cell_type": "markdown",
   "metadata": {},
   "source": [
    "# Plotting the   Prediction\n",
    "\n",
    "After the prediction is done, I have generated  some plots to visualize the results. I created a small  function called isolate_and_plot which compars variable with the different undergrad reputation and the mean probability for that combination.  I have also  a pivot_table which allows you to easily aggregate the data.\n",
    "\n",
    "The  plots below shows how gre, gpa, and undergrad reputation affect the admission levels. It is quite vivid that  probability of getting and admit increases as gre and gpa increase and that the different undergrad reputation levels yield drastic probabilities of admission (particularly the most/least prestigious schools)."
   ]
  },
  {
   "cell_type": "code",
   "execution_count": 110,
   "metadata": {
    "collapsed": false
   },
   "outputs": [
    {
     "data": {
      "image/png": "[encoded data removed]",
      "text/plain": [
       "<matplotlib.figure.Figure at 0x11e72fd50>"
      ]
     },
     "metadata": {},
     "output_type": "display_data"
    },
    {
     "data": {
      "image/png": "[encoded data removed]",
      "text/plain": [
       "<matplotlib.figure.Figure at 0x11eb244d0>"
      ]
     },
     "metadata": {},
     "output_type": "display_data"
    }
   ],
   "source": [
    "def isolate_and_plot(variable):\n",
    "    # isolate gre and class rank\n",
    "    grouped = pd.pivot_table(combos, values=['admit_pred'], index=[variable, 'undergrad_rep'],\n",
    "                            aggfunc=np.mean)\n",
    "    \n",
    "\n",
    "    colors = 'rbgyrbgy'\n",
    "    for col in combos.undergrad_rep.unique():\n",
    "        plt_data = grouped.ix[grouped.index.get_level_values(1)==col]\n",
    "        pl.plot(plt_data.index.get_level_values(0), plt_data['admit_pred'],\n",
    "                color=colors[int(col)])\n",
    "\n",
    "    pl.xlabel(variable)\n",
    "    pl.ylabel(\"P(admit=1)\")\n",
    "    pl.legend(['1', '2', '3', '4'], loc='upper left', title='Undergrad_rep')\n",
    "    pl.title(\"Prob(admit=1) isolating \" + variable + \" and undergrad_rep\")\n",
    "    pl.show()\n",
    "\n",
    "isolate_and_plot('gre')\n",
    "isolate_and_plot('gpa')"
   ]
  },
  {
   "cell_type": "code",
   "execution_count": null,
   "metadata": {
    "collapsed": true
   },
   "outputs": [],
   "source": []
  }
 ],
 "metadata": {
  "kernelspec": {
   "display_name": "Python 2",
   "language": "python",
   "name": "python2"
  },
  "language_info": {
   "codemirror_mode": {
    "name": "ipython",
    "version": 2
   },
   "file_extension": ".py",
   "mimetype": "text/x-python",
   "name": "python",
   "nbconvert_exporter": "python",
   "pygments_lexer": "ipython2",
   "version": "2.7.11"
  }
 },
 "nbformat": 4,
 "nbformat_minor": 0
}
