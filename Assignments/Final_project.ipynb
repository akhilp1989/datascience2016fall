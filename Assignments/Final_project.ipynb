{
 "cells": [
  {
   "cell_type": "markdown",
   "metadata": {
    "collapsed": false
   },
   "source": [
    "# Final Project \n",
    "# Submittied By:Akhil Parashara \n",
    "# W1166146 \n",
    "# aparashara@scu.edu\n"
   ]
  },
  {
   "cell_type": "markdown",
   "metadata": {},
   "source": [
    "# Analysis to be presented:\n",
    "\n",
    "How the grades of students affect based on their driniking habbits: The aim of this project is to correlate and find how the change in drinking consumption can be reflected on their grades.\n",
    "\n",
    "In order to find that we will be using LinearRegression,Lasso Reagression and Ridge Regression as taught in the class"
   ]
  },
  {
   "cell_type": "code",
   "execution_count": 97,
   "metadata": {
    "collapsed": false
   },
   "outputs": [],
   "source": [
    "###Step-1: Getting the data and importing the libraries:\n",
    "\n",
    "import pandas as pd\n",
    "import numpy as np\n",
    "\n",
    "from sklearn.linear_model import LinearRegression, Lasso\n",
    "from sklearn.linear_model import Ridge\n",
    "import scipy\n",
    "import matplotlib.pyplot as plt\n",
    "\n",
    "\n",
    "\n",
    "df_mat = pd.read_csv('/Users/akhil.parashara/Downloads/student-mat.csv')\n",
    "df_por = pd.read_csv('/Users/akhil.parashara/Downloads/student-por.csv')\n",
    "df_data=pd.concat([df_mat,df_por])\n"
   ]
  },
  {
   "cell_type": "markdown",
   "metadata": {},
   "source": [
    "# Cleaning up the data and removing the duplicate and redundant \n",
    "\n",
    "The data in both Maths and Portugese have been merged above but there are some duplicates which we will be removing below."
   ]
  },
  {
   "cell_type": "code",
   "execution_count": 72,
   "metadata": {
    "collapsed": false
   },
   "outputs": [],
   "source": [
    "df_data=df_data.drop_duplicates([\"school\",\"sex\",\"age\",\"address\",\"famsize\",\\\n",
    "                                 \"Pstatus\",\"Medu\",\"Fedu\",\"Mjob\",\"Fjob\",\"reason\",\"nursery\",\"internet\"])\n"
   ]
  },
  {
   "cell_type": "markdown",
   "metadata": {
    "collapsed": true
   },
   "source": [
    "# Finding the normalization of the Grades\n",
    "\n",
    "These grades are related with the course subject, Math or Portuguese:\n",
    "\n",
    "G1 - first period grade (numeric: from 0 to 20)\n",
    "G2 - second period grade (numeric: from 0 to 20)\n",
    "G3 - final grade (numeric: from 0 to 20, output target)\n",
    "\n",
    "The purpose of this is to find if there is a pattern or not\n"
   ]
  },
  {
   "cell_type": "code",
   "execution_count": 76,
   "metadata": {
    "collapsed": false
   },
   "outputs": [
    {
     "name": "stdout",
     "output_type": "stream",
     "text": [
      "G1\n",
      "NormaltestResult(statistic=18.735074390192455, pvalue=8.5453584985236355e-05)\n",
      "G2\n",
      "NormaltestResult(statistic=32.321985664995381, pvalue=9.5800988610509447e-08)\n",
      "G3\n",
      "NormaltestResult(statistic=73.593966615348393, pvalue=1.0453776212925763e-16)\n"
     ]
    }
   ],
   "source": [
    "grades=[\"G1\",\"G2\",\"G3\"]\n",
    "normal=[]\n",
    "for i in grades:\n",
    "    normal.append(scipy.stats.normaltest(df_data[i]))\n",
    "                                        \n",
    "for i in range(0,len(grades)):\n",
    "    print(grades[i])\n",
    "    print(normal[i])\n",
    "    "
   ]
  },
  {
   "cell_type": "markdown",
   "metadata": {},
   "source": [
    "Looking at G1, it seems it is closest to normal varaiable which can also be seen from the graphs below"
   ]
  },
  {
   "cell_type": "code",
   "execution_count": 77,
   "metadata": {
    "collapsed": false
   },
   "outputs": [
    {
     "data": {
      "image/png": "[encoded data removed]",
      "text/plain": [
       "<matplotlib.figure.Figure at 0x14bff4b50>"
      ]
     },
     "metadata": {},
     "output_type": "display_data"
    }
   ],
   "source": [
    "i = 1\n",
    "for w in grades:\n",
    "    plt.subplot(3, 1, i)\n",
    "    plt.tight_layout()\n",
    "    i += 1\n",
    "    plt.hist(df_data[w])\n",
    "    plt.title(w)"
   ]
  },
  {
   "cell_type": "markdown",
   "metadata": {},
   "source": [
    "# Finding Coorelations between the grades"
   ]
  },
  {
   "cell_type": "code",
   "execution_count": 79,
   "metadata": {
    "collapsed": false
   },
   "outputs": [
    {
     "name": "stdout",
     "output_type": "stream",
     "text": [
      "('G1', 'G2', '--', 0.8414356603927251)\n",
      "('G1', 'G3', '--', 0.7965691040425612)\n",
      "('G2', 'G1', '--', 0.8414356603927251)\n",
      "('G2', 'G3', '--', 0.91354807173107411)\n",
      "('G3', 'G1', '--', 0.7965691040425612)\n",
      "('G3', 'G2', '--', 0.91354807173107411)\n"
     ]
    }
   ],
   "source": [
    "corr = df_data.corr()\n",
    "for a in corr.columns:\n",
    "    for b in corr.index:\n",
    "        if (a != b) and (abs(corr[a][b]) >= 0.75):\n",
    "            print(a,b,'--',corr[a][b])"
   ]
  },
  {
   "cell_type": "markdown",
   "metadata": {},
   "source": [
    "From the above results, it looks like only G2-G3 have strong coorelation. "
   ]
  },
  {
   "cell_type": "markdown",
   "metadata": {},
   "source": [
    "# Regression \n",
    "\n",
    "Now We will first drop all the Grades (G1,G2,G3) because they are target\n"
   ]
  },
  {
   "cell_type": "code",
   "execution_count": 103,
   "metadata": {
    "collapsed": true
   },
   "outputs": [],
   "source": [
    "from sklearn.cross_validation import cross_val_score"
   ]
  },
  {
   "cell_type": "code",
   "execution_count": 104,
   "metadata": {
    "collapsed": false
   },
   "outputs": [
    {
     "ename": "NameError",
     "evalue": "name 'regression_explore' is not defined",
     "output_type": "error",
     "traceback": [
      "\u001b[0;31m---------------------------------------------------------------------------\u001b[0m",
      "\u001b[0;31mNameError\u001b[0m                                 Traceback (most recent call last)",
      "\u001b[0;32m<ipython-input-104-0ff054220504>\u001b[0m in \u001b[0;36m<module>\u001b[0;34m()\u001b[0m\n\u001b[1;32m     19\u001b[0m \u001b[0ma\u001b[0m \u001b[0;34m=\u001b[0m \u001b[0;34m[\u001b[0m\u001b[0;34m'G3'\u001b[0m\u001b[0;34m,\u001b[0m\u001b[0;34m'G2'\u001b[0m\u001b[0;34m,\u001b[0m\u001b[0;34m'G1'\u001b[0m\u001b[0;34m]\u001b[0m\u001b[0;34m\u001b[0m\u001b[0m\n\u001b[1;32m     20\u001b[0m \u001b[0;32mfor\u001b[0m \u001b[0mi\u001b[0m \u001b[0;32min\u001b[0m \u001b[0ma\u001b[0m\u001b[0;34m:\u001b[0m\u001b[0;34m\u001b[0m\u001b[0m\n\u001b[0;32m---> 21\u001b[0;31m     \u001b[0mregression_explore\u001b[0m\u001b[0;34m(\u001b[0m\u001b[0mi\u001b[0m\u001b[0;34m,\u001b[0m \u001b[0ma\u001b[0m\u001b[0;34m)\u001b[0m\u001b[0;34m\u001b[0m\u001b[0m\n\u001b[0m\u001b[1;32m     22\u001b[0m     \u001b[0;32mprint\u001b[0m\u001b[0;34m(\u001b[0m\u001b[0;34m'\\n'\u001b[0m\u001b[0;34m)\u001b[0m\u001b[0;34m\u001b[0m\u001b[0m\n",
      "\u001b[0;31mNameError\u001b[0m: name 'regression_explore' is not defined"
     ]
    }
   ],
   "source": [
    "def regrexp(y,drop):\n",
    "    Y = df_data[y]\n",
    "    X = df_data.drop(drop, axis=1)\n",
    "    X = pd.get_dummies(X)\n",
    "\n",
    "    models = ['LinearRegression', 'Ridge', 'Lasso']\n",
    "\n",
    "    classif_list = [\n",
    "            LinearRegression(),\n",
    "            Ridge(),\n",
    "            Lasso()]\n",
    "            \n",
    "    print('Models performance in: ' + str(y))\n",
    "   \n",
    "    for models, classif in zip(models, classif_list):\n",
    "        print(models, end, ': ')\n",
    "        print(cross_val_score(classif, X, Y, cv=5).mean())\n",
    "        \n",
    "a = ['G3','G2','G1']\n",
    "for i in a:\n",
    "    regression_explore(i, a)\n",
    "    print('\\n')"
   ]
  },
  {
   "cell_type": "code",
   "execution_count": 105,
   "metadata": {
    "collapsed": false
   },
   "outputs": [
    {
     "name": "stdout",
     "output_type": "stream",
     "text": [
      "Object `regression_explore` not found.\n"
     ]
    }
   ],
   "source": [
    "regression_explore?"
   ]
  },
  {
   "cell_type": "code",
   "execution_count": null,
   "metadata": {
    "collapsed": true
   },
   "outputs": [],
   "source": []
  }
 ],
 "metadata": {
  "kernelspec": {
   "display_name": "Python 2",
   "language": "python",
   "name": "python2"
  },
  "language_info": {
   "codemirror_mode": {
    "name": "ipython",
    "version": 2
   },
   "file_extension": ".py",
   "mimetype": "text/x-python",
   "name": "python",
   "nbconvert_exporter": "python",
   "pygments_lexer": "ipython2",
   "version": "2.7.11"
  }
 },
 "nbformat": 4,
 "nbformat_minor": 0
}
