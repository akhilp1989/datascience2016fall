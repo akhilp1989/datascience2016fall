{
 "cells": [
  {
   "cell_type": "code",
   "execution_count": 7,
   "metadata": {
    "collapsed": false
   },
   "outputs": [
    {
     "data": {
      "text/plain": [
       "0.99718868948117734"
      ]
     },
     "execution_count": 7,
     "metadata": {},
     "output_type": "execute_result"
    },
    {
     "name": "stdout",
     "output_type": "stream",
     "text": [
      "\n"
     ]
    }
   ],
   "source": [
    "import pandas as pd\n",
    "import pandas.io.data as web\n",
    "import pandas_datareader\n",
    "stocksData={}\n",
    "djia_data={}\n",
    "for ticket in ['MMM','AXP','AAPL','BA','CAT','CVX','CSCO','KO','DIS','DD','XOM','GE','GS','HD','IBM','INTC','JNJ','JPM','MCD','MRK','MSFT','NKE','PFE','PG','TRV','UTX','UNH','VZ','V','WMT']:\n",
    "    stocksData[ticket]=web.get_data_yahoo(ticket)\n",
    "stocks_data=pd.DataFrame({tic:data['Adj Close']\n",
    "                for tic, data in stocksData.iteritems()})\n",
    "for ticket in ['DJIA']:\n",
    "    djia_data[ticket]=web.get_data_yahoo(ticket)\n",
    "djia_price=pd.DataFrame({tic:data['Adj Close']\n",
    "                for tic, data in djia_data.iteritems()})\n",
    "sum_price=pd.DataFrame(data=stocks_data.sum(axis=1),columns=['price'])\n",
    "\n",
    "DJIA_Correlation=sum_price['price'].corr(djia_price['DJIA'])\n",
    "DJIA_Correlation\n",
    "stocks_data.ix[0]\n"
   ]
  },
  {
   "cell_type": "code",
   "execution_count": null,
   "metadata": {
    "collapsed": true
   },
   "outputs": [],
   "source": []
  }
 ],
 "metadata": {
  "kernelspec": {
   "display_name": "Python 2",
   "language": "python",
   "name": "python2"
  },
  "language_info": {
   "codemirror_mode": {
    "name": "ipython",
    "version": 2
   },
   "file_extension": ".py",
   "mimetype": "text/x-python",
   "name": "python",
   "nbconvert_exporter": "python",
   "pygments_lexer": "ipython2",
   "version": "2.7.11"
  }
 },
 "nbformat": 4,
 "nbformat_minor": 0
}
