{
 "cells": [
  {
   "cell_type": "markdown",
   "metadata": {},
   "source": [
    "# Final Project : Logit Regression to identify the various factors that may influence admission into graduate school.\n",
    "\n",
    "# Submitted By: Akhil Parashara\n",
    "\n",
    "# W1166146\n",
    "\n",
    "# aparashara@scu.edu"
   ]
  },
  {
   "cell_type": "markdown",
   "metadata": {},
   "source": [
    "# Introduction: \n",
    "\n",
    "Logistic regression, also called a logit model, is used to model dichotomous outcome variables. In the logit model the log odds of the outcome is modeled as a linear combination of the predictor variables.\n",
    "\n",
    "We have take the datasource from UCLA which has the following predictors Variables\n",
    "gpa --> GPA of undergrad School\n",
    "gre score\n",
    "rank or Reputation of an applicant's undergraduate alma mater\n",
    "The final column in the dataset \"Admit\" which has a binary value of 0 or 1; 0--> Not Admitted , 1--> Admitted"
   ]
  },
  {
   "cell_type": "markdown",
   "metadata": {},
   "source": [
    "# Step -1 Load the Libraries and Dataset \n",
    "\n",
    "The first and foremost step is to load the libraries and dataset. For this project, I have used Pandas and Numpy for standard data analysis, Statsmodel for modelling and training the data and finally Pylab for the plotting"
   ]
  },
  {
   "cell_type": "code",
   "execution_count": 42,
   "metadata": {
    "collapsed": false
   },
   "outputs": [
    {
     "data": {
      "text/html": [
       "<div>\n",
       "<table border=\"1\" class=\"dataframe\">\n",
       "  <thead>\n",
       "    <tr style=\"text-align: right;\">\n",
       "      <th></th>\n",
       "      <th>admit</th>\n",
       "      <th>gre</th>\n",
       "      <th>gpa</th>\n",
       "      <th>undergrad_rep</th>\n",
       "    </tr>\n",
       "  </thead>\n",
       "  <tbody>\n",
       "    <tr>\n",
       "      <th>0</th>\n",
       "      <td>0</td>\n",
       "      <td>380</td>\n",
       "      <td>3.61</td>\n",
       "      <td>3</td>\n",
       "    </tr>\n",
       "    <tr>\n",
       "      <th>1</th>\n",
       "      <td>1</td>\n",
       "      <td>660</td>\n",
       "      <td>3.67</td>\n",
       "      <td>3</td>\n",
       "    </tr>\n",
       "    <tr>\n",
       "      <th>2</th>\n",
       "      <td>1</td>\n",
       "      <td>800</td>\n",
       "      <td>4.00</td>\n",
       "      <td>1</td>\n",
       "    </tr>\n",
       "    <tr>\n",
       "      <th>3</th>\n",
       "      <td>1</td>\n",
       "      <td>640</td>\n",
       "      <td>3.19</td>\n",
       "      <td>4</td>\n",
       "    </tr>\n",
       "    <tr>\n",
       "      <th>4</th>\n",
       "      <td>0</td>\n",
       "      <td>520</td>\n",
       "      <td>2.93</td>\n",
       "      <td>4</td>\n",
       "    </tr>\n",
       "  </tbody>\n",
       "</table>\n",
       "</div>"
      ],
      "text/plain": [
       "   admit  gre   gpa  undergrad_rep\n",
       "0      0  380  3.61              3\n",
       "1      1  660  3.67              3\n",
       "2      1  800  4.00              1\n",
       "3      1  640  3.19              4\n",
       "4      0  520  2.93              4"
      ]
     },
     "execution_count": 42,
     "metadata": {},
     "output_type": "execute_result"
    }
   ],
   "source": [
    "import pandas as pd\n",
    "import statsmodels.api as sm\n",
    "import pylab as pl\n",
    "import numpy as np\n",
    "\n",
    "# reading the data\n",
    "df1 = pd.read_csv(\"http://www.ats.ucla.edu/stat/data/binary.csv\")\n",
    "\n",
    "df1.columns = [\"admit\", \"gre\", \"gpa\", \"undergrad_rep\"]\n",
    "\n",
    "# Overall structure of the dataset\n",
    "df1.head(5)"
   ]
  },
  {
   "cell_type": "markdown",
   "metadata": {},
   "source": [
    "# Step-2: Looking at the data\n",
    "\n",
    "The best way look and analyse the data is using plots. I have used histogram to visualize the total count based on each of the 4 fields. If you look at the histogram below, the 1st graph shows the that only 175 students got admitted(admit value=1). Looking more into the insight of GRE scores, it looks like the most of the students have a GRE score of 600, which is good to get admission."
   ]
  },
  {
   "cell_type": "code",
   "execution_count": 45,
   "metadata": {
    "collapsed": false
   },
   "outputs": [
    {
     "data": {
      "image/png": "[encoded data removed]",
      "text/plain": [
       "<matplotlib.figure.Figure at 0x11e6a2c90>"
      ]
     },
     "metadata": {},
     "output_type": "display_data"
    }
   ],
   "source": [
    "df1.hist()\n",
    "pl.show()"
   ]
  },
  {
   "cell_type": "markdown",
   "metadata": {},
   "source": [
    "# Crosstab: crosstab makes it really easy to do multidimensional frequency tables\n",
    "\n",
    "Below we are using crosstab to calculate the frequency of number admits based on the undergrad Reputation and number of admits based on GRE scores\n"
   ]
  },
  {
   "cell_type": "code",
   "execution_count": 4,
   "metadata": {
    "collapsed": false
   },
   "outputs": [
    {
     "name": "stdout",
     "output_type": "stream",
     "text": [
      "undergrad_rep   1   2   3   4\n",
      "admit                        \n",
      "0              28  97  93  55\n",
      "1              33  54  28  12\n"
     ]
    }
   ],
   "source": [
    "#Printing Frequency chart for admits vs UnderGrad Reputation\n",
    "print pd.crosstab(df1['admit'], df1['undergrad_rep'], rownames=['admit'])"
   ]
  },
  {
   "cell_type": "code",
   "execution_count": 5,
   "metadata": {
    "collapsed": false
   },
   "outputs": [
    {
     "name": "stdout",
     "output_type": "stream",
     "text": [
      "gre    220  300  340  360  380  400  420  440  460  480 ...   620  640  660  \\\n",
      "admit                                                   ...                   \n",
      "0        1    2    3    4    8    9    7    8   10   10 ...    18   16   12   \n",
      "1        0    1    1    0    0    2    0    2    4    6 ...    12    5   12   \n",
      "\n",
      "gre    680  700  720  740  760  780  800  \n",
      "admit                                     \n",
      "0       11   17    8    7    1    1   14  \n",
      "1        9    5    3    4    4    4   11  \n",
      "\n",
      "[2 rows x 26 columns]\n"
     ]
    }
   ],
   "source": [
    "#Printing Frequency chart for admits vs GRE Score\n",
    "print pd.crosstab(df1['admit'], df1['gre'], rownames=['admit'])"
   ]
  },
  {
   "cell_type": "markdown",
   "metadata": {},
   "source": [
    "# Step -3 Creating Dummy Variables\n",
    "\n",
    "Using pandas gives  a great amount of control over how these  variables are represented. We're going dummify the \"Undergrad_rep\" column using get_dummies.\n",
    "\n",
    "get_dummies creates a new DataFrame with binary indicator variables for each category/option in the column specified. In this case, Undergrad_rep column has four levels: 1, 2, 3 and 4 (1 being most reputed). When we call get_dummies, we get a dataframe with four columns, each of which describes one of those levels.\n",
    "\n",
    "After doing that,I merge the new dummy columns in the original dataset and removed the undergrad_rep column because its not needed after that.\n",
    "\n",
    "Finally, I  added a fix term for the Logistic Regression. The statsmodels function  requires that intercepts/constants are specified explicitly."
   ]
  },
  {
   "cell_type": "code",
   "execution_count": 59,
   "metadata": {
    "collapsed": false
   },
   "outputs": [
    {
     "name": "stdout",
     "output_type": "stream",
     "text": [
      "   undergrad_rep_1  undergrad_rep_2  undergrad_rep_3  undergrad_rep_4\n",
      "0              0.0              0.0              1.0              0.0\n",
      "1              0.0              0.0              1.0              0.0\n",
      "2              1.0              0.0              0.0              0.0\n",
      "3              0.0              0.0              0.0              1.0\n",
      "4              0.0              0.0              0.0              1.0\n",
      "   admit  gre   gpa  undergrad_rep_2  undergrad_rep_3  undergrad_rep_4\n",
      "0      0  380  3.61              0.0              1.0              0.0\n",
      "1      1  660  3.67              0.0              1.0              0.0\n",
      "2      1  800  4.00              0.0              0.0              0.0\n",
      "3      1  640  3.19              0.0              0.0              1.0\n",
      "4      0  520  2.93              0.0              0.0              1.0\n"
     ]
    }
   ],
   "source": [
    "df_ranks = pd.get_dummies(df1['undergrad_rep'], prefix='undergrad_rep')\n",
    "print df_ranks.head()\n",
    "df_cols = ['admit', 'gre', 'gpa']\n",
    "data = df1[df_cols].join(df_ranks.ix[:, 'undergrad_rep_2':])\n",
    "print data.head()\n",
    "data['intercept'] = 1.0"
   ]
  },
  {
   "cell_type": "markdown",
   "metadata": {},
   "source": [
    "# Finally getting down to REAL Business REGRESSION\n",
    "\n",
    "The first step in regression is to Specify the column variables that we want to predict then followed by the columns that our model should use to predict.\n",
    "\n",
    "In this case I am  predicting the admit column based on gre, gpa, and the UnderGrad reputation dummy variables gre, gpa, undergrad_rep_2, undergrad_rep_3, undergrad_rep_4. We're going to treat undergrad_rep_1 as our base and exclude it from our fit. I did this to prevent multicollinearity\n",
    "\n",
    "I am using the statsmodels Logit function to do the Logistic regression"
   ]
  },
  {
   "cell_type": "code",
   "execution_count": 61,
   "metadata": {
    "collapsed": false
   },
   "outputs": [
    {
     "name": "stdout",
     "output_type": "stream",
     "text": [
      "Optimization terminated successfully.\n",
      "         Current function value: 0.573147\n",
      "         Iterations 6\n"
     ]
    }
   ],
   "source": [
    "col_train = data.columns[1:]\n",
    "# Index([gre, gpa, undergrad_rep_2, undergrad_rep_3, undergrad_rep_4], dtype=object)\n",
    "\n",
    "logit = sm.Logit(data['admit'], data[col_train])\n",
    "\n",
    "# fit the model\n",
    "result = logit.fit()\n"
   ]
  },
  {
   "cell_type": "markdown",
   "metadata": {},
   "source": [
    "# Analysizing the Regression Results:\n",
    "\n",
    "From the two results set, it seems quite evident that there is an inverse relationship between the probability of being admitted and the reputation of the undergrad School.\n",
    "\n",
    "In other words, the probability getting addmitted into a graduate course is more for students who have attended a well reputated  ranked undergraduate school (undergrad_rep_1==True) in contrast  to the lower ranked schools (undergrad_rep==2 or 3 or 4)."
   ]
  },
  {
   "cell_type": "code",
   "execution_count": 62,
   "metadata": {
    "collapsed": false
   },
   "outputs": [
    {
     "name": "stdout",
     "output_type": "stream",
     "text": [
      "                           Logit Regression Results                           \n",
      "==============================================================================\n",
      "Dep. Variable:                  admit   No. Observations:                  400\n",
      "Model:                          Logit   Df Residuals:                      394\n",
      "Method:                           MLE   Df Model:                            5\n",
      "Date:                Sun, 27 Nov 2016   Pseudo R-squ.:                 0.08292\n",
      "Time:                        16:53:28   Log-Likelihood:                -229.26\n",
      "converged:                       True   LL-Null:                       -249.99\n",
      "                                        LLR p-value:                 7.578e-08\n",
      "===================================================================================\n",
      "                      coef    std err          z      P>|z|      [95.0% Conf. Int.]\n",
      "-----------------------------------------------------------------------------------\n",
      "gre                 0.0023      0.001      2.070      0.038         0.000     0.004\n",
      "gpa                 0.8040      0.332      2.423      0.015         0.154     1.454\n",
      "undergrad_rep_2    -0.6754      0.316     -2.134      0.033        -1.296    -0.055\n",
      "undergrad_rep_3    -1.3402      0.345     -3.881      0.000        -2.017    -0.663\n",
      "undergrad_rep_4    -1.5515      0.418     -3.713      0.000        -2.370    -0.733\n",
      "intercept          -3.9900      1.140     -3.500      0.000        -6.224    -1.756\n",
      "===================================================================================\n"
     ]
    }
   ],
   "source": [
    "print result.summary()"
   ]
  },
  {
   "cell_type": "code",
   "execution_count": 63,
   "metadata": {
    "collapsed": false
   },
   "outputs": [
    {
     "name": "stdout",
     "output_type": "stream",
     "text": [
      "                        0         1\n",
      "gre              0.000120  0.004409\n",
      "gpa              0.153684  1.454391\n",
      "undergrad_rep_2 -1.295751 -0.055135\n",
      "undergrad_rep_3 -2.016992 -0.663416\n",
      "undergrad_rep_4 -2.370399 -0.732529\n",
      "intercept       -6.224242 -1.755716\n"
     ]
    }
   ],
   "source": [
    "# look at the confidence interval of each coeffecient\n",
    "print result.conf_int()"
   ]
  },
  {
   "cell_type": "markdown",
   "metadata": {},
   "source": [
    "# Evaluation/Prediction \n",
    "\n",
    "In order to evaluate the classifier, I re-created the dataset with  logical combination of input values. From that, i can see how the predicted probability of getting an admit improves/decreases with different variables. \n",
    "\n",
    "Initial step in that is to  generate the combinations using a helper function called cartesian(http://stackoverflow.com/questions/1208118/using-numpy-to-build-an-array-of-all-combinations-of-two-arrays)\n",
    "\n",
    "I used np.linspace to create a range of values for \"gre\" and \"gpa\". It is a  linearly spaced values from a specified min and maximum value which correlates to minimum and maximum values from the dataset"
   ]
  },
  {
   "cell_type": "code",
   "execution_count": 64,
   "metadata": {
    "collapsed": false
   },
   "outputs": [
    {
     "data": {
      "text/plain": [
       "array([ 220.        ,  284.44444444,  348.88888889,  413.33333333,\n",
       "        477.77777778,  542.22222222,  606.66666667,  671.11111111,\n",
       "        735.55555556,  800.        ,    2.26      ,    2.45333333,\n",
       "          2.64666667,    2.84      ,    3.03333333,    3.22666667,\n",
       "          3.42      ,    3.61333333,    3.80666667,    4.        ])"
      ]
     },
     "execution_count": 64,
     "metadata": {},
     "output_type": "execute_result"
    }
   ],
   "source": [
    "gre_list = np.linspace(df1['gre'].min(), df1['gre'].max(), 10)\n",
    "gpa_list = np.linspace(df1['gpa'].min(), df1['gpa'].max(), 10)\n",
    "comb_list=np.concatenate((gre_list,gpa_list),axis=0)\n",
    "comb_list\n"
   ]
  },
  {
   "cell_type": "code",
   "execution_count": 65,
   "metadata": {
    "collapsed": true
   },
   "outputs": [],
   "source": [
    "def cartesian(arrays, out=None):\n",
    "    arrays = [np.asarray(x) for x in arrays]\n",
    "    dtype = arrays[0].dtype\n",
    "\n",
    "    n = np.prod([x.size for x in arrays])\n",
    "    if out is None:\n",
    "        out = np.zeros([n, len(arrays)], dtype=dtype)\n",
    "\n",
    "    m = n / arrays[0].size\n",
    "    out[:,0] = np.repeat(arrays[0], m)\n",
    "    if arrays[1:]:\n",
    "        cartesian(arrays[1:], out=out[0:m,1:])\n",
    "        for j in xrange(1, arrays[0].size):\n",
    "            out[j*m:(j+1)*m,1:] = out[0:m,1:]\n",
    "    return out\n",
    "df_comb= pd.DataFrame(cartesian([gre_list, gpa_list, [1, 2, 3, 4], [1.]]))   \n",
    "df_comb.columns = ['gre', 'gpa', 'undergrad_rep', 'intercept']"
   ]
  },
  {
   "cell_type": "code",
   "execution_count": 12,
   "metadata": {
    "collapsed": false
   },
   "outputs": [
    {
     "name": "stdout",
     "output_type": "stream",
     "text": [
      "     gre       gpa  undergrad_rep  intercept  undergrad_rep_2  \\\n",
      "0  220.0  2.260000            1.0        1.0              0.0   \n",
      "1  220.0  2.260000            2.0        1.0              1.0   \n",
      "2  220.0  2.260000            3.0        1.0              0.0   \n",
      "3  220.0  2.260000            4.0        1.0              0.0   \n",
      "4  220.0  2.453333            1.0        1.0              0.0   \n",
      "\n",
      "   undergrad_rep_3  undergrad_rep_4  admit_pred  \n",
      "0              0.0              0.0    0.065876  \n",
      "1              0.0              0.0    0.065876  \n",
      "2              1.0              0.0    0.065876  \n",
      "3              0.0              1.0    0.065876  \n",
      "4              0.0              0.0    0.075444  \n"
     ]
    }
   ],
   "source": [
    "df_dummy_ranks = pd.get_dummies(df_comb['undergrad_rep'], prefix='undergrad_rep')\n",
    "df_dummy_ranks.columns = ['undergrad_rep_1', 'undergrad_rep_2', 'undergrad_rep_3', 'undergrad_rep_4']\n",
    "\n",
    "# keep only what we need for making predictions\n",
    "df_dummy_ranks_col = ['gre', 'gpa', 'undergrad_rep', 'intercept']\n",
    "df_comb = df_comb[df_dummy_ranks_col].join(df_dummy_ranks.ix[:, 'undergrad_rep_2':])\n",
    "\n",
    "# make predictions on the enumerated dataset\n",
    "df_comb['admit_pred'] = result.predict(df_comb[col_train])\n",
    "\n",
    "print df_comb.head()"
   ]
  },
  {
   "cell_type": "markdown",
   "metadata": {},
   "source": [
    "# Plotting the   Prediction\n",
    "\n",
    "After the prediction is done, I have generated  some plots to visualize the results. I created a small  function called isolate_and_plot which compars variable with the different undergrad reputation and the mean probability for that combination.  I have also  a pivot_table which allows you to easily aggregate the data.\n",
    "\n",
    "The  plots below shows how gre, gpa, and undergrad reputation affect the admission levels. It is quite vivid that  probability of getting and admit increases as gre and gpa increase and that the different undergrad reputation levels yield drastic probabilities of admission (particularly the most/least prestigious schools)."
   ]
  },
  {
   "cell_type": "code",
   "execution_count": 69,
   "metadata": {
    "collapsed": true
   },
   "outputs": [],
   "source": [
    "def isolate_and_plot(variable):\n",
    "    # isolate gre and class rank\n",
    "    grouped = pd.pivot_table(df_comb, values=['admit_pred'], index=[variable, 'undergrad_rep'],\n",
    "                            aggfunc=np.mean)\n",
    "    \n",
    "\n",
    "    colors = 'rbgyrbgy'\n",
    "    for col in df_comb.undergrad_rep.unique():\n",
    "        plt_data = grouped.ix[grouped.index.get_level_values(1)==col]\n",
    "        pl.plot(plt_data.index.get_level_values(0), plt_data['admit_pred'],\n",
    "                color=colors[int(col)])\n",
    "\n",
    "    pl.xlabel(variable)\n",
    "    pl.ylabel(\"P(admit=1)\")\n",
    "    pl.legend(['1', '2', '3', '4'], loc='upper left', title='UnderGrad_rep')\n",
    "    pl.title(\"Prob(admit=1) From \" + variable + \" and undergrad_rep\")\n",
    "    pl.show()\n",
    "\n"
   ]
  },
  {
   "cell_type": "code",
   "execution_count": 70,
   "metadata": {
    "collapsed": false
   },
   "outputs": [
    {
     "ename": "DataError",
     "evalue": "No numeric types to aggregate",
     "output_type": "error",
     "traceback": [
      "\u001b[0;31m---------------------------------------------------------------------------\u001b[0m",
      "\u001b[0;31mDataError\u001b[0m                                 Traceback (most recent call last)",
      "\u001b[0;32m<ipython-input-70-eae78119211e>\u001b[0m in \u001b[0;36m<module>\u001b[0;34m()\u001b[0m\n\u001b[0;32m----> 1\u001b[0;31m \u001b[0misolate_and_plot\u001b[0m\u001b[0;34m(\u001b[0m\u001b[0;34m'gre'\u001b[0m\u001b[0;34m)\u001b[0m\u001b[0;34m\u001b[0m\u001b[0m\n\u001b[0m",
      "\u001b[0;32m<ipython-input-69-fb1ebcfe34ac>\u001b[0m in \u001b[0;36misolate_and_plot\u001b[0;34m(variable)\u001b[0m\n\u001b[1;32m      2\u001b[0m     \u001b[0;31m# isolate gre and class rank\u001b[0m\u001b[0;34m\u001b[0m\u001b[0;34m\u001b[0m\u001b[0m\n\u001b[1;32m      3\u001b[0m     grouped = pd.pivot_table(df_comb, values=['admit_pred'], index=[variable, 'undergrad_rep'],\n\u001b[0;32m----> 4\u001b[0;31m                             aggfunc=np.mean)\n\u001b[0m\u001b[1;32m      5\u001b[0m \u001b[0;34m\u001b[0m\u001b[0m\n\u001b[1;32m      6\u001b[0m \u001b[0;34m\u001b[0m\u001b[0m\n",
      "\u001b[0;32m/Users/akhil.parashara/Documents/Capstone/anaconda/lib/python2.7/site-packages/pandas/tools/pivot.pyc\u001b[0m in \u001b[0;36mpivot_table\u001b[0;34m(data, values, index, columns, aggfunc, fill_value, margins, dropna, margins_name)\u001b[0m\n\u001b[1;32m    119\u001b[0m \u001b[0;34m\u001b[0m\u001b[0m\n\u001b[1;32m    120\u001b[0m     \u001b[0mgrouped\u001b[0m \u001b[0;34m=\u001b[0m \u001b[0mdata\u001b[0m\u001b[0;34m.\u001b[0m\u001b[0mgroupby\u001b[0m\u001b[0;34m(\u001b[0m\u001b[0mkeys\u001b[0m\u001b[0;34m)\u001b[0m\u001b[0;34m\u001b[0m\u001b[0m\n\u001b[0;32m--> 121\u001b[0;31m     \u001b[0magged\u001b[0m \u001b[0;34m=\u001b[0m \u001b[0mgrouped\u001b[0m\u001b[0;34m.\u001b[0m\u001b[0magg\u001b[0m\u001b[0;34m(\u001b[0m\u001b[0maggfunc\u001b[0m\u001b[0;34m)\u001b[0m\u001b[0;34m\u001b[0m\u001b[0m\n\u001b[0m\u001b[1;32m    122\u001b[0m \u001b[0;34m\u001b[0m\u001b[0m\n\u001b[1;32m    123\u001b[0m     \u001b[0mtable\u001b[0m \u001b[0;34m=\u001b[0m \u001b[0magged\u001b[0m\u001b[0;34m\u001b[0m\u001b[0m\n",
      "\u001b[0;32m/Users/akhil.parashara/Documents/Capstone/anaconda/lib/python2.7/site-packages/pandas/core/groupby.pyc\u001b[0m in \u001b[0;36maggregate\u001b[0;34m(self, arg, *args, **kwargs)\u001b[0m\n\u001b[1;32m   3585\u001b[0m     \u001b[0;34m@\u001b[0m\u001b[0mAppender\u001b[0m\u001b[0;34m(\u001b[0m\u001b[0mSelectionMixin\u001b[0m\u001b[0;34m.\u001b[0m\u001b[0m_agg_doc\u001b[0m\u001b[0;34m)\u001b[0m\u001b[0;34m\u001b[0m\u001b[0m\n\u001b[1;32m   3586\u001b[0m     \u001b[0;32mdef\u001b[0m \u001b[0maggregate\u001b[0m\u001b[0;34m(\u001b[0m\u001b[0mself\u001b[0m\u001b[0;34m,\u001b[0m \u001b[0marg\u001b[0m\u001b[0;34m,\u001b[0m \u001b[0;34m*\u001b[0m\u001b[0margs\u001b[0m\u001b[0;34m,\u001b[0m \u001b[0;34m**\u001b[0m\u001b[0mkwargs\u001b[0m\u001b[0;34m)\u001b[0m\u001b[0;34m:\u001b[0m\u001b[0;34m\u001b[0m\u001b[0m\n\u001b[0;32m-> 3587\u001b[0;31m         \u001b[0;32mreturn\u001b[0m \u001b[0msuper\u001b[0m\u001b[0;34m(\u001b[0m\u001b[0mDataFrameGroupBy\u001b[0m\u001b[0;34m,\u001b[0m \u001b[0mself\u001b[0m\u001b[0;34m)\u001b[0m\u001b[0;34m.\u001b[0m\u001b[0maggregate\u001b[0m\u001b[0;34m(\u001b[0m\u001b[0marg\u001b[0m\u001b[0;34m,\u001b[0m \u001b[0;34m*\u001b[0m\u001b[0margs\u001b[0m\u001b[0;34m,\u001b[0m \u001b[0;34m**\u001b[0m\u001b[0mkwargs\u001b[0m\u001b[0;34m)\u001b[0m\u001b[0;34m\u001b[0m\u001b[0m\n\u001b[0m\u001b[1;32m   3588\u001b[0m \u001b[0;34m\u001b[0m\u001b[0m\n\u001b[1;32m   3589\u001b[0m     \u001b[0magg\u001b[0m \u001b[0;34m=\u001b[0m \u001b[0maggregate\u001b[0m\u001b[0;34m\u001b[0m\u001b[0m\n",
      "\u001b[0;32m/Users/akhil.parashara/Documents/Capstone/anaconda/lib/python2.7/site-packages/pandas/core/groupby.pyc\u001b[0m in \u001b[0;36maggregate\u001b[0;34m(self, arg, *args, **kwargs)\u001b[0m\n\u001b[1;32m   3102\u001b[0m \u001b[0;34m\u001b[0m\u001b[0m\n\u001b[1;32m   3103\u001b[0m         \u001b[0m_level\u001b[0m \u001b[0;34m=\u001b[0m \u001b[0mkwargs\u001b[0m\u001b[0;34m.\u001b[0m\u001b[0mpop\u001b[0m\u001b[0;34m(\u001b[0m\u001b[0;34m'_level'\u001b[0m\u001b[0;34m,\u001b[0m \u001b[0mNone\u001b[0m\u001b[0;34m)\u001b[0m\u001b[0;34m\u001b[0m\u001b[0m\n\u001b[0;32m-> 3104\u001b[0;31m         \u001b[0mresult\u001b[0m\u001b[0;34m,\u001b[0m \u001b[0mhow\u001b[0m \u001b[0;34m=\u001b[0m \u001b[0mself\u001b[0m\u001b[0;34m.\u001b[0m\u001b[0m_aggregate\u001b[0m\u001b[0;34m(\u001b[0m\u001b[0marg\u001b[0m\u001b[0;34m,\u001b[0m \u001b[0m_level\u001b[0m\u001b[0;34m=\u001b[0m\u001b[0m_level\u001b[0m\u001b[0;34m,\u001b[0m \u001b[0;34m*\u001b[0m\u001b[0margs\u001b[0m\u001b[0;34m,\u001b[0m \u001b[0;34m**\u001b[0m\u001b[0mkwargs\u001b[0m\u001b[0;34m)\u001b[0m\u001b[0;34m\u001b[0m\u001b[0m\n\u001b[0m\u001b[1;32m   3105\u001b[0m         \u001b[0;32mif\u001b[0m \u001b[0mhow\u001b[0m \u001b[0;32mis\u001b[0m \u001b[0mNone\u001b[0m\u001b[0;34m:\u001b[0m\u001b[0;34m\u001b[0m\u001b[0m\n\u001b[1;32m   3106\u001b[0m             \u001b[0;32mreturn\u001b[0m \u001b[0mresult\u001b[0m\u001b[0;34m\u001b[0m\u001b[0m\n",
      "\u001b[0;32m/Users/akhil.parashara/Documents/Capstone/anaconda/lib/python2.7/site-packages/pandas/core/base.pyc\u001b[0m in \u001b[0;36m_aggregate\u001b[0;34m(self, arg, *args, **kwargs)\u001b[0m\n\u001b[1;32m    564\u001b[0m         \u001b[0mcy_func\u001b[0m \u001b[0;34m=\u001b[0m \u001b[0mself\u001b[0m\u001b[0;34m.\u001b[0m\u001b[0m_is_cython_func\u001b[0m\u001b[0;34m(\u001b[0m\u001b[0marg\u001b[0m\u001b[0;34m)\u001b[0m\u001b[0;34m\u001b[0m\u001b[0m\n\u001b[1;32m    565\u001b[0m         \u001b[0;32mif\u001b[0m \u001b[0mcy_func\u001b[0m \u001b[0;32mand\u001b[0m \u001b[0;32mnot\u001b[0m \u001b[0margs\u001b[0m \u001b[0;32mand\u001b[0m \u001b[0;32mnot\u001b[0m \u001b[0mkwargs\u001b[0m\u001b[0;34m:\u001b[0m\u001b[0;34m\u001b[0m\u001b[0m\n\u001b[0;32m--> 566\u001b[0;31m             \u001b[0;32mreturn\u001b[0m \u001b[0mgetattr\u001b[0m\u001b[0;34m(\u001b[0m\u001b[0mself\u001b[0m\u001b[0;34m,\u001b[0m \u001b[0mcy_func\u001b[0m\u001b[0;34m)\u001b[0m\u001b[0;34m(\u001b[0m\u001b[0;34m)\u001b[0m\u001b[0;34m,\u001b[0m \u001b[0mNone\u001b[0m\u001b[0;34m\u001b[0m\u001b[0m\n\u001b[0m\u001b[1;32m    567\u001b[0m \u001b[0;34m\u001b[0m\u001b[0m\n\u001b[1;32m    568\u001b[0m         \u001b[0;31m# caller can react\u001b[0m\u001b[0;34m\u001b[0m\u001b[0;34m\u001b[0m\u001b[0m\n",
      "\u001b[0;32m/Users/akhil.parashara/Documents/Capstone/anaconda/lib/python2.7/site-packages/pandas/core/groupby.pyc\u001b[0m in \u001b[0;36mmean\u001b[0;34m(self)\u001b[0m\n\u001b[1;32m    933\u001b[0m         \"\"\"\n\u001b[1;32m    934\u001b[0m         \u001b[0;32mtry\u001b[0m\u001b[0;34m:\u001b[0m\u001b[0;34m\u001b[0m\u001b[0m\n\u001b[0;32m--> 935\u001b[0;31m             \u001b[0;32mreturn\u001b[0m \u001b[0mself\u001b[0m\u001b[0;34m.\u001b[0m\u001b[0m_cython_agg_general\u001b[0m\u001b[0;34m(\u001b[0m\u001b[0;34m'mean'\u001b[0m\u001b[0;34m)\u001b[0m\u001b[0;34m\u001b[0m\u001b[0m\n\u001b[0m\u001b[1;32m    936\u001b[0m         \u001b[0;32mexcept\u001b[0m \u001b[0mGroupByError\u001b[0m\u001b[0;34m:\u001b[0m\u001b[0;34m\u001b[0m\u001b[0m\n\u001b[1;32m    937\u001b[0m             \u001b[0;32mraise\u001b[0m\u001b[0;34m\u001b[0m\u001b[0m\n",
      "\u001b[0;32m/Users/akhil.parashara/Documents/Capstone/anaconda/lib/python2.7/site-packages/pandas/core/groupby.pyc\u001b[0m in \u001b[0;36m_cython_agg_general\u001b[0;34m(self, how, numeric_only)\u001b[0m\n\u001b[1;32m   3036\u001b[0m     \u001b[0;32mdef\u001b[0m \u001b[0m_cython_agg_general\u001b[0m\u001b[0;34m(\u001b[0m\u001b[0mself\u001b[0m\u001b[0;34m,\u001b[0m \u001b[0mhow\u001b[0m\u001b[0;34m,\u001b[0m \u001b[0mnumeric_only\u001b[0m\u001b[0;34m=\u001b[0m\u001b[0mTrue\u001b[0m\u001b[0;34m)\u001b[0m\u001b[0;34m:\u001b[0m\u001b[0;34m\u001b[0m\u001b[0m\n\u001b[1;32m   3037\u001b[0m         new_items, new_blocks = self._cython_agg_blocks(\n\u001b[0;32m-> 3038\u001b[0;31m             how, numeric_only=numeric_only)\n\u001b[0m\u001b[1;32m   3039\u001b[0m         \u001b[0;32mreturn\u001b[0m \u001b[0mself\u001b[0m\u001b[0;34m.\u001b[0m\u001b[0m_wrap_agged_blocks\u001b[0m\u001b[0;34m(\u001b[0m\u001b[0mnew_items\u001b[0m\u001b[0;34m,\u001b[0m \u001b[0mnew_blocks\u001b[0m\u001b[0;34m)\u001b[0m\u001b[0;34m\u001b[0m\u001b[0m\n\u001b[1;32m   3040\u001b[0m \u001b[0;34m\u001b[0m\u001b[0m\n",
      "\u001b[0;32m/Users/akhil.parashara/Documents/Capstone/anaconda/lib/python2.7/site-packages/pandas/core/groupby.pyc\u001b[0m in \u001b[0;36m_cython_agg_blocks\u001b[0;34m(self, how, numeric_only)\u001b[0m\n\u001b[1;32m   3082\u001b[0m \u001b[0;34m\u001b[0m\u001b[0m\n\u001b[1;32m   3083\u001b[0m         \u001b[0;32mif\u001b[0m \u001b[0mlen\u001b[0m\u001b[0;34m(\u001b[0m\u001b[0mnew_blocks\u001b[0m\u001b[0;34m)\u001b[0m \u001b[0;34m==\u001b[0m \u001b[0;36m0\u001b[0m\u001b[0;34m:\u001b[0m\u001b[0;34m\u001b[0m\u001b[0m\n\u001b[0;32m-> 3084\u001b[0;31m             \u001b[0;32mraise\u001b[0m \u001b[0mDataError\u001b[0m\u001b[0;34m(\u001b[0m\u001b[0;34m'No numeric types to aggregate'\u001b[0m\u001b[0;34m)\u001b[0m\u001b[0;34m\u001b[0m\u001b[0m\n\u001b[0m\u001b[1;32m   3085\u001b[0m \u001b[0;34m\u001b[0m\u001b[0m\n\u001b[1;32m   3086\u001b[0m         \u001b[0;32mreturn\u001b[0m \u001b[0mdata\u001b[0m\u001b[0;34m.\u001b[0m\u001b[0mitems\u001b[0m\u001b[0;34m,\u001b[0m \u001b[0mnew_blocks\u001b[0m\u001b[0;34m\u001b[0m\u001b[0m\n",
      "\u001b[0;31mDataError\u001b[0m: No numeric types to aggregate"
     ]
    }
   ],
   "source": [
    "isolate_and_plot('gre')"
   ]
  },
  {
   "cell_type": "code",
   "execution_count": null,
   "metadata": {
    "collapsed": true
   },
   "outputs": [],
   "source": []
  }
 ],
 "metadata": {
  "kernelspec": {
   "display_name": "Python 2",
   "language": "python",
   "name": "python2"
  },
  "language_info": {
   "codemirror_mode": {
    "name": "ipython",
    "version": 2
   },
   "file_extension": ".py",
   "mimetype": "text/x-python",
   "name": "python",
   "nbconvert_exporter": "python",
   "pygments_lexer": "ipython2",
   "version": "2.7.11"
  }
 },
 "nbformat": 4,
 "nbformat_minor": 0
}
