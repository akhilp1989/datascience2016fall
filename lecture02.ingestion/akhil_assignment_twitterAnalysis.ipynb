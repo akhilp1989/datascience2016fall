{
 "cells": [
  {
   "cell_type": "code",
   "execution_count": 37,
   "metadata": {
    "collapsed": false
   },
   "outputs": [
    {
     "name": "stdout",
     "output_type": "stream",
     "text": [
      "Top 10 Hillary [('clinton', 920), ('trump', 865), ('paid', 624), ('full', 605), ('private', 554), ('transcripts', 535), ('speechs', 522), ('release:', 520), ('@wikileaks:', 511), ('media', 320)]\n",
      "Top 10 Trump [('trump', 11364), ('clinton', 1126), ('women', 949), ('the', 819), ('media', 802), ('like', 714), ('sexual', 650), ('supporters', 627), ('drug', 625), ('people', 559)]\n",
      "Average for Hillary 86\n",
      "Average for Trump 1153\n"
     ]
    }
   ],
   "source": [
    "from  collections import Counter\n",
    "import nltk\n",
    "from nltk.corpus import stopwords\n",
    "#stop_words_new=['a','The','the','i','a','I','of','to','is','in','for','and','are','RT']\n",
    "stop_words=set(stopwords.words(\"english\"))\n",
    "stop_words.update([\"a\",\"the\",'i','of','to',\"is\",'in','for','and','are','rt','@','-','#podestaemails','&amp;'\n",
    "                  ,'Donald','this','Clinton','hillary','Trump','says','#Trump',\"trump's\",\"clinton's\",\"via\",'his','he','#trump','trump:',\"#goldmansach's\"])\n",
    "\n",
    "file='hillary.txt'\n",
    "file_t='trump.txt'\n",
    "with open(file,'r') as fp:\n",
    "        data=fp.read().lower().split()\n",
    "        for i in data:\n",
    "            if len(i)< 4 or i==\"the\"or i==\"#podestaemails8\\xe2\\x80\\xa6\" or i==\"hillary\" or i==\"clinton's\":\n",
    "                data.remove(i)\n",
    "       # counts = Counter(data).most_common(10)\n",
    "with open(file_t,'r') as fp_t:\n",
    "    data_t=fp_t.read().lower().split()\n",
    "    for j in data_t:\n",
    "            if len(j)< 4 or j==\"the\" or j==\"donald\" or i==\"trump\":\n",
    "                data_t.remove(j)\n",
    "   # counts_t = Counter(data_t).most_common(10)\n",
    "\n",
    "#print \"main_counter:-\", main_counter\n",
    "#print counts\n",
    "data_copy=data[:]\n",
    "data_copy_t=data_t[:]\n",
    "#print counts\n",
    "#print counts_t\n",
    "for word in data_copy:\n",
    "    if word in stop_words:\n",
    "        data_copy.remove(word)\n",
    "    \n",
    "        \n",
    "count_hillary=Counter(data_copy).most_common(10)\n",
    "print \"Top 10 Hillary\",count_hillary\n",
    "for word in data_copy_t:\n",
    "    if word in stop_words:\n",
    "         data_copy_t.remove(word)\n",
    "    \n",
    "\n",
    "        \n",
    "count_trump=Counter(data_copy_t).most_common(10)\n",
    "print \"Top 10 Trump\", count_trump\n",
    "dict_h=dict(count_hillary)\n",
    "dict_t=dict(count_trump)\n",
    "dict_h['clinton']=dict_h['clinton']*1\n",
    "dict_h['media']=dict_h['media']*1\n",
    "dict_h[\"@wikileaks:\"]=dict_h[\"@wikileaks:\"]*-1\n",
    "dict_h[\"paid\"]=dict_h[\"paid\"]*-1\n",
    "dict_h[\"full\"]=dict_h[\"full\"]*1\n",
    "dict_h[\"private\"]=dict_h[\"private\"]*-1\n",
    "dict_h[\"transcripts\"]=dict_h[\"transcripts\"]*1\n",
    "dict_h['release:'] = dict_h['release:']*1\n",
    "dict_h['speechs'] = dict_h['speechs']*1\n",
    "dict_h['trump'] = dict_h['trump']*-1\n",
    "dict_t[\"clinton\"]=dict_t[\"clinton\"]*-1\n",
    "dict_t[\"trump\"]=dict_t[\"trump\"]*1\n",
    "dict_t[\"women\"]=dict_t[\"women\"]*-1\n",
    "dict_t[\"like\"]=dict_t[\"like\"]*1\n",
    "dict_t[\"media\"]=dict_t[\"media\"]*1\n",
    "dict_t[\"sexual\"]=dict_t[\"sexual\"]*-1\n",
    "dict_t[\"supporters\"]=dict_t[\"supporters\"]*1\n",
    "dict_t[\"people\"]=dict_t[\"people\"]*1\n",
    "dict_t[\"drug\"]=dict_t[\"drug\"]*-1\n",
    "dict_t[\"the\"]=dict_t[\"the\"]*1\n",
    "v=dict_h.values()\n",
    "avg=sum(v)/len(v)\n",
    "v1=dict_t.values()\n",
    "avg1=sum(v1)/len(v1)\n",
    "print \"Average for Hillary\",avg\n",
    "print \"Average for Trump\",avg1\n",
    "\n",
    "\n",
    "\n",
    "\n"
   ]
  },
  {
   "cell_type": "code",
   "execution_count": null,
   "metadata": {
    "collapsed": true
   },
   "outputs": [],
   "source": []
  }
 ],
 "metadata": {
  "kernelspec": {
   "display_name": "Python 2",
   "language": "python",
   "name": "python2"
  },
  "language_info": {
   "codemirror_mode": {
    "name": "ipython",
    "version": 2
   },
   "file_extension": ".py",
   "mimetype": "text/x-python",
   "name": "python",
   "nbconvert_exporter": "python",
   "pygments_lexer": "ipython2",
   "version": "2.7.11"
  }
 },
 "nbformat": 4,
 "nbformat_minor": 0
}
